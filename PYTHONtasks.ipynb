{
 "cells": [
  {
   "cell_type": "code",
   "execution_count": 3,
   "metadata": {},
   "outputs": [
    {
     "name": "stdout",
     "output_type": "stream",
     "text": [
      "439.0243902439025\n"
     ]
    }
   ],
   "source": [
    "# A program that takes an amount (EGP) from the user, asks him for the currency to be converted to, and the amount is converted\n",
    "\n",
    "\n",
    "amount = float(input(\"Enter the amount (EGP): \"))\n",
    "#the input is 3600\n",
    "currency = input(\"choose the currency (USD) (SAR) (KWD): \")\n",
    "\n",
    "\n",
    "if currency == (\"USD\") :\n",
    "  print(amount / 30.9)\n",
    "\n",
    "elif currency == (\"SAR\") :\n",
    "  print(amount / 8.2)\n",
    "\n",
    "elif currency == (\"KWD\") :\n",
    "  print(amount / 99.9)"
   ]
  },
  {
   "cell_type": "code",
   "execution_count": 4,
   "metadata": {},
   "outputs": [
    {
     "name": "stdout",
     "output_type": "stream",
     "text": [
      "0\n",
      "2\n",
      "4\n",
      "6\n",
      "8\n",
      "10\n",
      "12\n",
      "14\n",
      "16\n",
      "18\n",
      "20\n"
     ]
    }
   ],
   "source": [
    "# A program that calculates even numbers from 0-20\n",
    "\n",
    "\n",
    "for i in range(21):\n",
    "  if (i % 2 == 0):\n",
    "    print(i)"
   ]
  },
  {
   "cell_type": "code",
   "execution_count": 5,
   "metadata": {},
   "outputs": [
    {
     "name": "stdout",
     "output_type": "stream",
     "text": [
      "78.5\n"
     ]
    }
   ],
   "source": [
    "# A program that contains a function that calculates the area of ​​a circle\n",
    "\n",
    "def areaC(x):\n",
    "  area = 3.14 * x * x\n",
    "  return area\n",
    "\n",
    "print(areaC(5))"
   ]
  },
  {
   "cell_type": "code",
   "execution_count": 6,
   "metadata": {},
   "outputs": [
    {
     "name": "stdout",
     "output_type": "stream",
     "text": [
      "64\n"
     ]
    }
   ],
   "source": [
    "# A program that contains a function that calculates the area of ​​a square\n",
    "\n",
    "def areaS(x):\n",
    "  area = x * x\n",
    "  return area\n",
    "\n",
    "print(areaS(8))"
   ]
  },
  {
   "cell_type": "code",
   "execution_count": 7,
   "metadata": {},
   "outputs": [
    {
     "name": "stdout",
     "output_type": "stream",
     "text": [
      "7.5\n"
     ]
    }
   ],
   "source": [
    "# A program that contains a function that calculates the area of ​​a triangle\n",
    "\n",
    "def areaT(x,y):\n",
    "  area = 0.5 * x * y\n",
    "  return area\n",
    "\n",
    "print(areaT(3,5))"
   ]
  },
  {
   "cell_type": "code",
   "execution_count": 14,
   "metadata": {},
   "outputs": [
    {
     "name": "stdout",
     "output_type": "stream",
     "text": [
      "(9, 'is the largest')\n"
     ]
    }
   ],
   "source": [
    "# A program that requests 3 numbers and prints the largest number from the numbers\n",
    "\n",
    "\n",
    "def largest(x,y,z,b,c):\n",
    "\n",
    "  if (x>y and x>z) and (x>b and x>c):\n",
    "    return x,\"is the largest\"\n",
    "\n",
    "  elif (y>x and y>z) and (y>b and y>c):\n",
    "    return y,\"is the largest\"\n",
    "\n",
    "  elif (z>x and z>y) and (z>b and z>c):\n",
    "    return z,\"is the largest\"\n",
    "\n",
    "  elif (b>x and b>y) and (b>z and b>c):\n",
    "    return b,\"is the largest\"\n",
    "\n",
    "  elif (c>x and c>y) and (c>z and c>b):\n",
    "    return c,\"is the largest\"\n",
    "\n",
    "print(largest(5,6,7,3,9))"
   ]
  },
  {
   "cell_type": "code",
   "execution_count": 18,
   "metadata": {},
   "outputs": [
    {
     "name": "stdout",
     "output_type": "stream",
     "text": [
      "3\n"
     ]
    }
   ],
   "source": [
    "# A program that takes a number from the user and prints the first number\n",
    "\n",
    "x = input(\"Enter a number: \")\n",
    "#the input is 330\n",
    "\n",
    "print(x[0])\n"
   ]
  },
  {
   "cell_type": "code",
   "execution_count": 21,
   "metadata": {},
   "outputs": [
    {
     "name": "stdout",
     "output_type": "stream",
     "text": [
      "13\n"
     ]
    }
   ],
   "source": [
    "# A program that takes a number from the user and prints the first two numbers\n",
    "\n",
    "x = input(\"Enter a number: \")\n",
    "#the input is 1369\n",
    "\n",
    "\n",
    "print(x[0:2])"
   ]
  }
 ],
 "metadata": {
  "kernelspec": {
   "display_name": "Python 3",
   "language": "python",
   "name": "python3"
  },
  "language_info": {
   "codemirror_mode": {
    "name": "ipython",
    "version": 3
   },
   "file_extension": ".py",
   "mimetype": "text/x-python",
   "name": "python",
   "nbconvert_exporter": "python",
   "pygments_lexer": "ipython3",
   "version": "3.11.3"
  }
 },
 "nbformat": 4,
 "nbformat_minor": 2
}
